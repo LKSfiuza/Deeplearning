{
  "nbformat": 4,
  "nbformat_minor": 0,
  "metadata": {
    "colab": {
      "provenance": [],
      "include_colab_link": true
    },
    "kernelspec": {
      "name": "python3",
      "display_name": "Python 3"
    },
    "language_info": {
      "name": "python"
    },
    "accelerator": "GPU"
  },
  "cells": [
    {
      "cell_type": "markdown",
      "metadata": {
        "id": "view-in-github",
        "colab_type": "text"
      },
      "source": [
        "<a href=\"https://colab.research.google.com/github/LKSfiuza/Deeplearning/blob/main/%5BELT575_Semana2_118678.ipynb\" target=\"_parent\"><img src=\"https://colab.research.google.com/assets/colab-badge.svg\" alt=\"Open In Colab\"/></a>"
      ]
    },
    {
      "cell_type": "code",
      "source": [
        "import numpy as np\n",
        "import tensorflow as tf\n",
        "\n",
        "from matplotlib import pyplot as plt\n",
        "from sklearn.model_selection import KFold\n",
        "from tensorflow.keras.datasets import mnist, cifar10\n",
        "from tensorflow.keras.utils import to_categorical\n",
        "from tensorflow.keras.models import Sequential\n",
        "from tensorflow.keras.layers import Conv2D, MaxPooling2D, Dense, Flatten, Dropout, BatchNormalization\n",
        "from tensorflow.keras.optimizers import Adam"
      ],
      "metadata": {
        "id": "mepYIv5SXA6q"
      },
      "execution_count": null,
      "outputs": []
    },
    {
      "cell_type": "markdown",
      "source": [
        "# Importando dados"
      ],
      "metadata": {
        "id": "D2WVw2iJ-iPf"
      }
    },
    {
      "cell_type": "markdown",
      "source": [
        "Aqui usaremos o dataset Cifar10 (https://www.tensorflow.org/datasets/catalog/cifar10?hl=pt-br),  consiste em 60.000 imagens coloridas 32x32 em 10 classes, com 6.000 imagens por classe. Existem 50.000 imagens de treinamento e 10.000 imagens de teste, tendo dimensões 32 x 32 x 3\n",
        "\n",
        "* Usaremos a versão disponível no tensorflow, mas nada impede que as imagens sejam carregadas de alguma pasta no próprio computador ou carregadas direto para a memória como um array multidimensional (esse último é desaconselhado devido ao volume de dados que serão manipulados durante o treinamento da rede)"
      ],
      "metadata": {
        "id": "rxJzwLQB-leO"
      }
    },
    {
      "cell_type": "code",
      "source": [
        "# carregando dataset\n",
        "(trainX, trainY), (testX, testY) = cifar10.load_data()"
      ],
      "metadata": {
        "id": "0oTJGJS7_oQq"
      },
      "execution_count": null,
      "outputs": []
    },
    {
      "cell_type": "markdown",
      "source": [
        "Faremos algumas adequações para que os dados sejam usados no modelo de CNN. Basicamente, colocamos os valores dos pixels em uma escala de 0 a 1, visto que os valores originais dos pixels das imagens correspondem a uma escala de 0 a 255. Também transformamos nossa variável alvo em uma codificação one-hos"
      ],
      "metadata": {
        "id": "OnIgJaRcX-oH"
      }
    },
    {
      "cell_type": "code",
      "source": [
        "plt.imshow(trainX[0], cmap='gray');"
      ],
      "metadata": {
        "colab": {
          "base_uri": "https://localhost:8080/",
          "height": 430
        },
        "id": "6sdeuEG4zNqp",
        "outputId": "f0b9f1a2-c8ff-4ef9-dc38-bb10acb4fa88"
      },
      "execution_count": null,
      "outputs": [
        {
          "output_type": "display_data",
          "data": {
            "text/plain": [
              "<Figure size 640x480 with 1 Axes>"
            ],
            "image/png": "[encoded data removed]"
          },
          "metadata": {}
        }
      ]
    },
    {
      "cell_type": "code",
      "execution_count": null,
      "metadata": {
        "id": "fIhMNN9u8063"
      },
      "outputs": [],
      "source": [
        "# fazendo um reshape no dataset para ter um único canal\n",
        "##trainX = trainX.reshape((trainX.shape[0], 32, 32, 3))\n",
        "#testX = testX.reshape((testX.shape[0], 32, 32, 3))\n",
        "\n",
        "# Convertendo valores dos pixels em float\n",
        "trainX = trainX.astype('float32')\n",
        "testX = testX.astype('float32')\n",
        "\n",
        "# normalização para escala [0-1]\n",
        "trainX = trainX / 255.0\n",
        "testX = testX / 255.0\n",
        "\n",
        "# transformando a variável alvo (target) para uma codificação one hot\n",
        "trainY = to_categorical(trainY)\n",
        "testY = to_categorical(testY)"
      ]
    },
    {
      "cell_type": "markdown",
      "source": [
        "# Construindo o modelo"
      ],
      "metadata": {
        "id": "4yIlMtBSYkCQ"
      }
    },
    {
      "cell_type": "markdown",
      "source": [
        "O modelo usado será bem simples:\n",
        "* Uma única camada convolucional com 32 filtros de tamanho 3 x 3 e função de ativação ReLU\n",
        "* Camada MaxPooling para redução de dimensionalidade\n",
        "* Transformação do resultado em um vetor\n",
        "* Camada totalmente conectada com 100 neurônios e função de ativação ReLU\n",
        "* Camada de saída softmax para estimar a probabilidade da entrada da rede pertencer a cada uma das 10 classes\n",
        "\n",
        "\n",
        "Para treinamento do modelo, usaremos o algoritmo de otimização clássico do gradiente descendente estocástico (SDG), com a função objetiva como a entropia cruzada categórica. Nossa principal métrica de desempenho será a acurácia"
      ],
      "metadata": {
        "id": "L6qv-wkKZL3a"
      }
    },
    {
      "cell_type": "code",
      "source": [
        "# definindo modelo\n",
        "def define_model():\n",
        "  model = Sequential()\n",
        "  model.add(Conv2D(32, (3, 3), activation='relu', input_shape=(32, 32, 3)))\n",
        "  model.add(BatchNormalization())\n",
        "  model.add(MaxPooling2D((2, 2)))\n",
        "  model.add(Flatten())\n",
        "  model.add(Dense(100, activation='relu'))\n",
        "  model.add(Dense(10, activation='softmax'))\n",
        "\n",
        "  # compilando modelo\n",
        "  opt = Adam(learning_rate=0.001)\n",
        "  model.compile(optimizer=opt, loss='categorical_crossentropy', metrics=['accuracy'])\n",
        "  return model"
      ],
      "metadata": {
        "id": "suXiZFlbAmmi"
      },
      "execution_count": null,
      "outputs": []
    },
    {
      "cell_type": "markdown",
      "source": [
        "# Treinamento do modelo"
      ],
      "metadata": {
        "id": "S5fX2TpPaj77"
      }
    },
    {
      "cell_type": "markdown",
      "source": [
        "O treinamento será realizado usando o método da validação cruzada k-partições (k-fold) com k=5. Tal validação cruzada faz a divisão dos dados em 5 grupos de tamanho igual, sendo realizadas 5 treinamentos distintos. A cada treinamento, 4 grupos de dados são utilizados para treinar o modelo e o grupo remanescente é usado para teste do desempenho do modelo treinado.\n",
        "\n",
        "\n",
        "\n",
        "* O principal intuito da validação k-fold é acessar a incerteza do desempenho do modelo"
      ],
      "metadata": {
        "id": "GetQJUegap4f"
      }
    },
    {
      "cell_type": "code",
      "source": [
        "callback = tf.keras.callbacks.EarlyStopping(monitor='val_loss', patience=3, restore_best_weights=True)"
      ],
      "metadata": {
        "id": "WVsFpMjYkZ7f"
      },
      "execution_count": null,
      "outputs": []
    },
    {
      "cell_type": "code",
      "source": [
        "scores = []\n",
        "histories = []\n",
        "\n",
        "# definindo a validação k-fold\n",
        "kfold = KFold(5, shuffle=True, random_state=1)\n",
        "\n",
        "# loop para as k-folds (cada fold usa subconjuntos de treino e teste diferentes)\n",
        "for train_ix, test_ix in kfold.split(trainX):\n",
        "\n",
        "  model = define_model()\n",
        "\n",
        "  # recorta dados de acordo com índices da k-fold\n",
        "  train_data, train_target, val_data, val_target = trainX[train_ix], trainY[train_ix], trainX[test_ix], trainY[test_ix]\n",
        "\n",
        "  # Treinamento do modelo\n",
        "  history = model.fit(train_data, train_target,\n",
        "                      epochs=10, batch_size=32,\n",
        "                      validation_data=(val_data, val_target),\n",
        "                      verbose=1, callbacks=[callback])\n",
        "\n",
        "  # desempenho do modelo\n",
        "  _, acc = model.evaluate(val_data, val_target, verbose=0)\n",
        "  print('> %.3f' % (acc * 100.0))\n",
        "\n",
        "  # armazena resultados de cada modelo treinado dentro da k-fold\n",
        "  scores.append(acc)\n",
        "  histories.append(history)\n",
        "\n",
        "print('Acurácia: média=%.3f desvio=%.3f' % (np.mean(scores)*100, np.std(scores)*100))\n",
        "plt.boxplot(scores)\n",
        "plt.show()"
      ],
      "metadata": {
        "colab": {
          "base_uri": "https://localhost:8080/",
          "height": 1000
        },
        "id": "vNMJ1WpeUNgp",
        "outputId": "ffe1e116-00ec-4e9b-f3ae-8914ed462783"
      },
      "execution_count": null,
      "outputs": [
        {
          "output_type": "stream",
          "name": "stdout",
          "text": [
            "Epoch 1/10\n",
            "1250/1250 [==============================] - 11s 5ms/step - loss: 1.3749 - accuracy: 0.5162 - val_loss: 1.3309 - val_accuracy: 0.5494\n",
            "Epoch 2/10\n",
            "1250/1250 [==============================] - 6s 5ms/step - loss: 0.9971 - accuracy: 0.6479 - val_loss: 1.2173 - val_accuracy: 0.5835\n",
            "Epoch 3/10\n",
            "1250/1250 [==============================] - 6s 4ms/step - loss: 0.8008 - accuracy: 0.7210 - val_loss: 1.3168 - val_accuracy: 0.5936\n",
            "Epoch 4/10\n",
            "1250/1250 [==============================] - 6s 4ms/step - loss: 0.6248 - accuracy: 0.7805 - val_loss: 1.4001 - val_accuracy: 0.5937\n",
            "Epoch 5/10\n",
            "1250/1250 [==============================] - 7s 5ms/step - loss: 0.4645 - accuracy: 0.8389 - val_loss: 1.5355 - val_accuracy: 0.6013\n",
            "> 58.350\n",
            "Epoch 1/10\n",
            "1250/1250 [==============================] - 9s 6ms/step - loss: 1.3664 - accuracy: 0.5201 - val_loss: 1.2297 - val_accuracy: 0.5746\n",
            "Epoch 2/10\n",
            "1250/1250 [==============================] - 6s 5ms/step - loss: 0.9841 - accuracy: 0.6546 - val_loss: 1.1815 - val_accuracy: 0.5986\n",
            "Epoch 3/10\n",
            "1250/1250 [==============================] - 6s 5ms/step - loss: 0.7663 - accuracy: 0.7304 - val_loss: 1.1645 - val_accuracy: 0.6249\n",
            "Epoch 4/10\n",
            "1250/1250 [==============================] - 6s 5ms/step - loss: 0.5680 - accuracy: 0.8009 - val_loss: 1.2236 - val_accuracy: 0.6235\n",
            "Epoch 5/10\n",
            "1250/1250 [==============================] - 6s 5ms/step - loss: 0.4084 - accuracy: 0.8579 - val_loss: 1.5023 - val_accuracy: 0.6243\n",
            "Epoch 6/10\n",
            "1250/1250 [==============================] - 6s 5ms/step - loss: 0.3007 - accuracy: 0.8939 - val_loss: 1.6518 - val_accuracy: 0.6062\n",
            "> 62.490\n",
            "Epoch 1/10\n",
            "1250/1250 [==============================] - 8s 5ms/step - loss: 1.3716 - accuracy: 0.5145 - val_loss: 1.4113 - val_accuracy: 0.5163\n",
            "Epoch 2/10\n",
            "1250/1250 [==============================] - 7s 6ms/step - loss: 0.9951 - accuracy: 0.6503 - val_loss: 1.1910 - val_accuracy: 0.5992\n",
            "Epoch 3/10\n",
            "1250/1250 [==============================] - 6s 5ms/step - loss: 0.7982 - accuracy: 0.7206 - val_loss: 1.6916 - val_accuracy: 0.5398\n",
            "Epoch 4/10\n",
            "1250/1250 [==============================] - 6s 5ms/step - loss: 0.6341 - accuracy: 0.7770 - val_loss: 1.1696 - val_accuracy: 0.6227\n",
            "Epoch 5/10\n",
            "1250/1250 [==============================] - 6s 5ms/step - loss: 0.4726 - accuracy: 0.8339 - val_loss: 1.4133 - val_accuracy: 0.5991\n",
            "Epoch 6/10\n",
            "1250/1250 [==============================] - 6s 5ms/step - loss: 0.3586 - accuracy: 0.8753 - val_loss: 1.6982 - val_accuracy: 0.5708\n",
            "Epoch 7/10\n",
            "1250/1250 [==============================] - 6s 4ms/step - loss: 0.2754 - accuracy: 0.9034 - val_loss: 1.6844 - val_accuracy: 0.6197\n",
            "> 62.270\n",
            "Epoch 1/10\n",
            "1250/1250 [==============================] - 8s 6ms/step - loss: 1.3804 - accuracy: 0.5163 - val_loss: 1.3643 - val_accuracy: 0.5363\n",
            "Epoch 2/10\n",
            "1250/1250 [==============================] - 5s 4ms/step - loss: 1.0053 - accuracy: 0.6482 - val_loss: 1.2130 - val_accuracy: 0.5859\n",
            "Epoch 3/10\n",
            "1250/1250 [==============================] - 7s 5ms/step - loss: 0.8002 - accuracy: 0.7205 - val_loss: 1.2511 - val_accuracy: 0.5878\n",
            "Epoch 4/10\n",
            "1250/1250 [==============================] - 5s 4ms/step - loss: 0.6167 - accuracy: 0.7842 - val_loss: 1.2795 - val_accuracy: 0.6152\n",
            "Epoch 5/10\n",
            "1250/1250 [==============================] - 6s 5ms/step - loss: 0.4654 - accuracy: 0.8380 - val_loss: 1.8797 - val_accuracy: 0.5300\n",
            "> 58.590\n",
            "Epoch 1/10\n",
            "1250/1250 [==============================] - 7s 4ms/step - loss: 1.3666 - accuracy: 0.5209 - val_loss: 1.2837 - val_accuracy: 0.5492\n",
            "Epoch 2/10\n",
            "1250/1250 [==============================] - 7s 5ms/step - loss: 0.9867 - accuracy: 0.6543 - val_loss: 1.2431 - val_accuracy: 0.5806\n",
            "Epoch 3/10\n",
            "1250/1250 [==============================] - 5s 4ms/step - loss: 0.7691 - accuracy: 0.7303 - val_loss: 1.3959 - val_accuracy: 0.5743\n",
            "Epoch 4/10\n",
            "1250/1250 [==============================] - 7s 5ms/step - loss: 0.5802 - accuracy: 0.7967 - val_loss: 1.4245 - val_accuracy: 0.5963\n",
            "Epoch 5/10\n",
            "1250/1250 [==============================] - 5s 4ms/step - loss: 0.4255 - accuracy: 0.8530 - val_loss: 1.4333 - val_accuracy: 0.6119\n",
            "> 58.060\n",
            "Acurácia: média=59.952 desvio=1.991\n"
          ]
        },
        {
          "output_type": "display_data",
          "data": {
            "text/plain": [
              "<Figure size 640x480 with 1 Axes>"
            ],
            "image/png": "[encoded data removed]"
          },
          "metadata": {}
        }
      ]
    },
    {
      "cell_type": "markdown",
      "source": [
        "## RESPOSTA 1 : FOI POSSIVEL NOTAR QUE O MODELO OBTEVE ACURÁCIA MEDIA DE 59.952 E UM DESVIO DE 1.991 USANDO EXATAMENTE OS MESMO PARAMETROS DO EXEMPLO UTILIZADO PARA O MNIST"
      ],
      "metadata": {
        "id": "g04X5n32rHye"
      }
    },
    {
      "cell_type": "markdown",
      "source": [
        "## Experimentando adicionar mais dois blocos de camadas Conv2D (64 filtros 3x3 - relu) + MaxPooling (2 x 2) antes da camada Flatten e compare os resultados."
      ],
      "metadata": {
        "id": "ms518CYQSvCP"
      }
    },
    {
      "cell_type": "code",
      "source": [
        "\n",
        "# Definindo o modelo com camadas adicionais\n",
        "def define_model():\n",
        "  model = Sequential()\n",
        "  model.add(Conv2D(32, (3, 3), activation='relu', input_shape=(32, 32, 3)))\n",
        "  model.add(BatchNormalization())\n",
        "  model.add(MaxPooling2D((2, 2)))\n",
        "\n",
        "  model.add(Conv2D(64, (3, 3), activation='relu'))\n",
        "  model.add(BatchNormalization())\n",
        "  model.add(MaxPooling2D((2, 2)))\n",
        "\n",
        "  model.add(Conv2D(64, (3, 3), activation='relu'))\n",
        "  model.add(BatchNormalization())\n",
        "  model.add(MaxPooling2D((2, 2)))\n",
        "\n",
        "  model.add(Flatten())\n",
        "  model.add(Dense(100, activation='relu'))\n",
        "  model.add(Dense(10, activation='softmax'))\n",
        "\n",
        "  # Compilando o modelo\n",
        "  opt = Adam(learning_rate=0.001)\n",
        "  model.compile(optimizer=opt, loss='categorical_crossentropy', metrics=['accuracy'])\n",
        "  return model\n",
        "\n",
        "\n",
        "for train_ix, test_ix in kfold.split(trainX):\n",
        "  model = define_model()\n",
        "  train_data, train_target, val_data, val_target = trainX[train_ix], trainY[train_ix], trainX[test_ix], trainY[test_ix]\n",
        "  history = model.fit(train_data, train_target,\n",
        "                      epochs=10, batch_size=32,\n",
        "                      validation_data=(val_data, val_target),\n",
        "                      verbose=1, callbacks=[callback])\n",
        "  _, acc = model.evaluate(val_data, val_target, verbose=0)\n",
        "  print('> %.3f' % (acc * 100.0))\n",
        "  scores.append(acc)\n",
        "  histories.append(history)\n",
        "\n",
        "print('Acurácia: média=%.3f desvio=%.3f' % (np.mean(scores)*100, np.std(scores)*100))\n",
        "plt.boxplot(scores)\n",
        "plt.show()\n"
      ],
      "metadata": {
        "id": "_D2ruwb0SufT",
        "outputId": "3a16d75b-1f2e-482e-f334-9ea6ec75307b",
        "colab": {
          "base_uri": "https://localhost:8080/",
          "height": 1000
        }
      },
      "execution_count": null,
      "outputs": [
        {
          "output_type": "stream",
          "name": "stdout",
          "text": [
            "Epoch 1/10\n",
            "1250/1250 [==============================] - 10s 6ms/step - loss: 1.3773 - accuracy: 0.5098 - val_loss: 1.3704 - val_accuracy: 0.5374\n",
            "Epoch 2/10\n",
            "1250/1250 [==============================] - 7s 6ms/step - loss: 1.0377 - accuracy: 0.6354 - val_loss: 1.1806 - val_accuracy: 0.5958\n",
            "Epoch 3/10\n",
            "1250/1250 [==============================] - 8s 6ms/step - loss: 0.8820 - accuracy: 0.6902 - val_loss: 1.1473 - val_accuracy: 0.6092\n",
            "Epoch 4/10\n",
            "1250/1250 [==============================] - 7s 5ms/step - loss: 0.7784 - accuracy: 0.7240 - val_loss: 0.9919 - val_accuracy: 0.6628\n",
            "Epoch 5/10\n",
            "1250/1250 [==============================] - 8s 7ms/step - loss: 0.6920 - accuracy: 0.7564 - val_loss: 0.9530 - val_accuracy: 0.6814\n",
            "Epoch 6/10\n",
            "1250/1250 [==============================] - 7s 5ms/step - loss: 0.6271 - accuracy: 0.7786 - val_loss: 1.1707 - val_accuracy: 0.6321\n",
            "Epoch 7/10\n",
            "1250/1250 [==============================] - 8s 7ms/step - loss: 0.5657 - accuracy: 0.7999 - val_loss: 0.9831 - val_accuracy: 0.6837\n",
            "Epoch 8/10\n",
            "1250/1250 [==============================] - 8s 6ms/step - loss: 0.5143 - accuracy: 0.8176 - val_loss: 1.0129 - val_accuracy: 0.6813\n",
            "> 68.140\n",
            "Epoch 1/10\n",
            "1250/1250 [==============================] - 10s 7ms/step - loss: 1.3864 - accuracy: 0.5092 - val_loss: 1.4762 - val_accuracy: 0.5086\n",
            "Epoch 2/10\n",
            "1250/1250 [==============================] - 7s 6ms/step - loss: 1.0308 - accuracy: 0.6374 - val_loss: 1.2780 - val_accuracy: 0.5627\n",
            "Epoch 3/10\n",
            "1250/1250 [==============================] - 8s 7ms/step - loss: 0.8848 - accuracy: 0.6927 - val_loss: 1.5857 - val_accuracy: 0.5256\n",
            "Epoch 4/10\n",
            "1250/1250 [==============================] - 7s 6ms/step - loss: 0.7822 - accuracy: 0.7290 - val_loss: 0.9014 - val_accuracy: 0.6877\n",
            "Epoch 5/10\n",
            "1250/1250 [==============================] - 8s 6ms/step - loss: 0.6982 - accuracy: 0.7555 - val_loss: 0.9729 - val_accuracy: 0.6742\n",
            "Epoch 6/10\n",
            "1250/1250 [==============================] - 8s 6ms/step - loss: 0.6293 - accuracy: 0.7781 - val_loss: 0.9359 - val_accuracy: 0.6849\n",
            "Epoch 7/10\n",
            "1250/1250 [==============================] - 7s 6ms/step - loss: 0.5739 - accuracy: 0.7996 - val_loss: 0.8864 - val_accuracy: 0.7027\n",
            "Epoch 8/10\n",
            "1250/1250 [==============================] - 8s 7ms/step - loss: 0.5161 - accuracy: 0.8171 - val_loss: 1.0785 - val_accuracy: 0.6675\n",
            "Epoch 9/10\n",
            "1250/1250 [==============================] - 7s 5ms/step - loss: 0.4685 - accuracy: 0.8330 - val_loss: 1.0118 - val_accuracy: 0.6900\n",
            "Epoch 10/10\n",
            "1250/1250 [==============================] - 8s 6ms/step - loss: 0.4288 - accuracy: 0.8485 - val_loss: 1.3851 - val_accuracy: 0.6235\n",
            "> 70.270\n",
            "Epoch 1/10\n",
            "1250/1250 [==============================] - 11s 7ms/step - loss: 1.3732 - accuracy: 0.5115 - val_loss: 1.1697 - val_accuracy: 0.5868\n",
            "Epoch 2/10\n",
            "1250/1250 [==============================] - 8s 6ms/step - loss: 1.0347 - accuracy: 0.6377 - val_loss: 1.7539 - val_accuracy: 0.4829\n",
            "Epoch 3/10\n",
            "1250/1250 [==============================] - 7s 5ms/step - loss: 0.8799 - accuracy: 0.6907 - val_loss: 1.2255 - val_accuracy: 0.5795\n",
            "Epoch 4/10\n",
            "1250/1250 [==============================] - 8s 6ms/step - loss: 0.7801 - accuracy: 0.7266 - val_loss: 1.0328 - val_accuracy: 0.6388\n",
            "Epoch 5/10\n",
            "1250/1250 [==============================] - 7s 5ms/step - loss: 0.6903 - accuracy: 0.7577 - val_loss: 0.9778 - val_accuracy: 0.6752\n",
            "Epoch 6/10\n",
            "1250/1250 [==============================] - 8s 6ms/step - loss: 0.6186 - accuracy: 0.7811 - val_loss: 0.9703 - val_accuracy: 0.6773\n",
            "Epoch 7/10\n",
            "1250/1250 [==============================] - 7s 6ms/step - loss: 0.5624 - accuracy: 0.8009 - val_loss: 1.1970 - val_accuracy: 0.6261\n",
            "Epoch 8/10\n",
            "1250/1250 [==============================] - 8s 6ms/step - loss: 0.5066 - accuracy: 0.8210 - val_loss: 1.0027 - val_accuracy: 0.6859\n",
            "Epoch 9/10\n",
            "1250/1250 [==============================] - 8s 6ms/step - loss: 0.4598 - accuracy: 0.8381 - val_loss: 1.0750 - val_accuracy: 0.6743\n",
            "> 67.730\n",
            "Epoch 1/10\n",
            "1250/1250 [==============================] - 10s 7ms/step - loss: 1.3787 - accuracy: 0.5062 - val_loss: 1.2413 - val_accuracy: 0.5597\n",
            "Epoch 2/10\n",
            "1250/1250 [==============================] - 7s 6ms/step - loss: 1.0293 - accuracy: 0.6388 - val_loss: 1.3333 - val_accuracy: 0.5685\n",
            "Epoch 3/10\n",
            "1250/1250 [==============================] - 9s 7ms/step - loss: 0.8722 - accuracy: 0.6986 - val_loss: 1.2091 - val_accuracy: 0.5926\n",
            "Epoch 4/10\n",
            "1250/1250 [==============================] - 7s 6ms/step - loss: 0.7670 - accuracy: 0.7302 - val_loss: 1.0761 - val_accuracy: 0.6401\n",
            "Epoch 5/10\n",
            "1250/1250 [==============================] - 8s 6ms/step - loss: 0.6842 - accuracy: 0.7611 - val_loss: 1.0433 - val_accuracy: 0.6533\n",
            "Epoch 6/10\n",
            "1250/1250 [==============================] - 8s 6ms/step - loss: 0.6202 - accuracy: 0.7824 - val_loss: 1.1100 - val_accuracy: 0.6405\n",
            "Epoch 7/10\n",
            "1250/1250 [==============================] - 7s 6ms/step - loss: 0.5520 - accuracy: 0.8076 - val_loss: 1.0333 - val_accuracy: 0.6718\n",
            "Epoch 8/10\n",
            "1250/1250 [==============================] - 8s 6ms/step - loss: 0.5051 - accuracy: 0.8224 - val_loss: 0.9968 - val_accuracy: 0.6911\n",
            "Epoch 9/10\n",
            "1250/1250 [==============================] - 7s 6ms/step - loss: 0.4525 - accuracy: 0.8401 - val_loss: 0.9703 - val_accuracy: 0.6939\n",
            "Epoch 10/10\n",
            "1250/1250 [==============================] - 8s 6ms/step - loss: 0.4172 - accuracy: 0.8529 - val_loss: 0.9991 - val_accuracy: 0.7031\n",
            "> 70.310\n",
            "Epoch 1/10\n",
            "1250/1250 [==============================] - 10s 7ms/step - loss: 1.3830 - accuracy: 0.5105 - val_loss: 1.4281 - val_accuracy: 0.5123\n",
            "Epoch 2/10\n",
            "1250/1250 [==============================] - 7s 6ms/step - loss: 1.0226 - accuracy: 0.6377 - val_loss: 1.1136 - val_accuracy: 0.6160\n",
            "Epoch 3/10\n",
            "1250/1250 [==============================] - 8s 6ms/step - loss: 0.8746 - accuracy: 0.6940 - val_loss: 1.3672 - val_accuracy: 0.5634\n",
            "Epoch 4/10\n",
            "1250/1250 [==============================] - 8s 6ms/step - loss: 0.7768 - accuracy: 0.7279 - val_loss: 0.9552 - val_accuracy: 0.6738\n",
            "Epoch 5/10\n",
            "1250/1250 [==============================] - 7s 6ms/step - loss: 0.6923 - accuracy: 0.7549 - val_loss: 0.9655 - val_accuracy: 0.6677\n",
            "Epoch 6/10\n",
            "1250/1250 [==============================] - 8s 6ms/step - loss: 0.6306 - accuracy: 0.7776 - val_loss: 1.3716 - val_accuracy: 0.5757\n",
            "Epoch 7/10\n",
            "1250/1250 [==============================] - 7s 5ms/step - loss: 0.5690 - accuracy: 0.7990 - val_loss: 1.1280 - val_accuracy: 0.6455\n",
            "> 67.380\n",
            "Acurácia: média=64.359 desvio=4.712\n"
          ]
        },
        {
          "output_type": "display_data",
          "data": {
            "text/plain": [
              "<Figure size 640x480 with 1 Axes>"
            ],
            "image/png": "[encoded data removed]"
          },
          "metadata": {}
        }
      ]
    },
    {
      "cell_type": "markdown",
      "source": [
        "## Resposta 2: Depois das alterações recomendadas, foi possível perceber mudanças significativas, como um aumento da acurácia para 64.359. Porém, houve um aumento também do desvio padrão para 4.712, o que pode ser considerado ruim."
      ],
      "metadata": {
        "id": "-o_fi7X3V0sJ"
      }
    },
    {
      "cell_type": "markdown",
      "source": [
        "## Seguindo o modelo modificado no item anterior, experimente adicionar um Dropout de 20% após cada camada MaxPooling. Comente os resultados obtidos.\n",
        "\n"
      ],
      "metadata": {
        "id": "e_mBiofmYl74"
      }
    },
    {
      "cell_type": "code",
      "source": [
        "# Definindo o modelo com camadas adicionais e adicionando um dropout de 0.2 apos todas camadas MaxPooling\n",
        "def define_model():\n",
        "  model = Sequential()\n",
        "  model.add(Conv2D(32, (3, 3), activation='relu', input_shape=(32, 32, 3)))\n",
        "  model.add(BatchNormalization())\n",
        "  model.add(MaxPooling2D((2, 2)))\n",
        "  model.add(Dropout(0.2))\n",
        "  model.add(Conv2D(64, (3, 3), activation='relu'))\n",
        "  model.add(BatchNormalization())\n",
        "  model.add(MaxPooling2D((2, 2)))\n",
        "  model.add(Dropout(0.2))\n",
        "  model.add(Conv2D(64, (3, 3), activation='relu'))\n",
        "  model.add(BatchNormalization())\n",
        "  model.add(MaxPooling2D((2, 2)))\n",
        "  model.add(Dropout(0.2))\n",
        "  model.add(Flatten())\n",
        "  model.add(Dense(100, activation='relu'))\n",
        "  model.add(Dense(10, activation='softmax'))\n",
        "\n",
        "  # Compilando o modelo\n",
        "  opt = Adam(learning_rate=0.001)\n",
        "  model.compile(optimizer=opt, loss='categorical_crossentropy', metrics=['accuracy'])\n",
        "  return model\n",
        "\n",
        "\n",
        "for train_ix, test_ix in kfold.split(trainX):\n",
        "  model = define_model()\n",
        "  train_data, train_target, val_data, val_target = trainX[train_ix], trainY[train_ix], trainX[test_ix], trainY[test_ix]\n",
        "  history = model.fit(train_data, train_target,\n",
        "                      epochs=10, batch_size=32,\n",
        "                      validation_data=(val_data, val_target),\n",
        "                      verbose=1, callbacks=[callback])\n",
        "  _, acc = model.evaluate(val_data, val_target, verbose=0)\n",
        "  print('> %.3f' % (acc * 100.0))\n",
        "  scores.append(acc)\n",
        "  histories.append(history)\n",
        "\n",
        "print('Acurácia: média=%.3f desvio=%.3f' % (np.mean(scores)*100, np.std(scores)*100))\n",
        "plt.boxplot(scores)\n",
        "plt.show()"
      ],
      "metadata": {
        "id": "zXB28jBUXZFA",
        "outputId": "2fe4be01-219a-404f-c60a-0d9ba7ce2dcb",
        "colab": {
          "base_uri": "https://localhost:8080/",
          "height": 1000
        }
      },
      "execution_count": null,
      "outputs": [
        {
          "output_type": "stream",
          "name": "stdout",
          "text": [
            "Epoch 1/10\n",
            "1250/1250 [==============================] - 12s 7ms/step - loss: 1.5475 - accuracy: 0.4443 - val_loss: 1.3876 - val_accuracy: 0.5168\n",
            "Epoch 2/10\n",
            "1250/1250 [==============================] - 8s 6ms/step - loss: 1.2285 - accuracy: 0.5583 - val_loss: 1.2281 - val_accuracy: 0.5614\n",
            "Epoch 3/10\n",
            "1250/1250 [==============================] - 7s 6ms/step - loss: 1.0992 - accuracy: 0.6086 - val_loss: 1.1141 - val_accuracy: 0.6058\n",
            "Epoch 4/10\n",
            "1250/1250 [==============================] - 8s 6ms/step - loss: 1.0167 - accuracy: 0.6410 - val_loss: 0.9580 - val_accuracy: 0.6592\n",
            "Epoch 5/10\n",
            "1250/1250 [==============================] - 8s 6ms/step - loss: 0.9528 - accuracy: 0.6658 - val_loss: 0.9954 - val_accuracy: 0.6506\n",
            "Epoch 6/10\n",
            "1250/1250 [==============================] - 9s 7ms/step - loss: 0.9057 - accuracy: 0.6812 - val_loss: 0.9900 - val_accuracy: 0.6531\n",
            "Epoch 7/10\n",
            "1250/1250 [==============================] - 8s 6ms/step - loss: 0.8636 - accuracy: 0.6947 - val_loss: 1.0090 - val_accuracy: 0.6482\n",
            "> 65.920\n",
            "Epoch 1/10\n",
            "1250/1250 [==============================] - 11s 7ms/step - loss: 1.5714 - accuracy: 0.4342 - val_loss: 1.9284 - val_accuracy: 0.3883\n",
            "Epoch 2/10\n",
            "1250/1250 [==============================] - 8s 6ms/step - loss: 1.2468 - accuracy: 0.5519 - val_loss: 1.3033 - val_accuracy: 0.5583\n",
            "Epoch 3/10\n",
            "1250/1250 [==============================] - 9s 7ms/step - loss: 1.1136 - accuracy: 0.6026 - val_loss: 1.0564 - val_accuracy: 0.6306\n",
            "Epoch 4/10\n",
            "1250/1250 [==============================] - 8s 6ms/step - loss: 1.0269 - accuracy: 0.6382 - val_loss: 1.0521 - val_accuracy: 0.6309\n",
            "Epoch 5/10\n",
            "1250/1250 [==============================] - 8s 6ms/step - loss: 0.9594 - accuracy: 0.6638 - val_loss: 0.9536 - val_accuracy: 0.6710\n",
            "Epoch 6/10\n",
            "1250/1250 [==============================] - 8s 7ms/step - loss: 0.9035 - accuracy: 0.6806 - val_loss: 0.9335 - val_accuracy: 0.6824\n",
            "Epoch 7/10\n",
            "1250/1250 [==============================] - 7s 6ms/step - loss: 0.8704 - accuracy: 0.6908 - val_loss: 0.8753 - val_accuracy: 0.6940\n",
            "Epoch 8/10\n",
            "1250/1250 [==============================] - 8s 6ms/step - loss: 0.8390 - accuracy: 0.7031 - val_loss: 0.8647 - val_accuracy: 0.7018\n",
            "Epoch 9/10\n",
            "1250/1250 [==============================] - 8s 6ms/step - loss: 0.8140 - accuracy: 0.7139 - val_loss: 1.0314 - val_accuracy: 0.6606\n",
            "Epoch 10/10\n",
            "1250/1250 [==============================] - 8s 7ms/step - loss: 0.7840 - accuracy: 0.7215 - val_loss: 0.9502 - val_accuracy: 0.6693\n",
            "> 66.930\n",
            "Epoch 1/10\n",
            "1250/1250 [==============================] - 11s 7ms/step - loss: 1.5579 - accuracy: 0.4410 - val_loss: 1.6454 - val_accuracy: 0.4446\n",
            "Epoch 2/10\n",
            "1250/1250 [==============================] - 9s 7ms/step - loss: 1.2191 - accuracy: 0.5676 - val_loss: 1.2453 - val_accuracy: 0.5731\n",
            "Epoch 3/10\n",
            "1250/1250 [==============================] - 8s 7ms/step - loss: 1.0903 - accuracy: 0.6147 - val_loss: 1.1496 - val_accuracy: 0.5820\n",
            "Epoch 4/10\n",
            "1250/1250 [==============================] - 8s 6ms/step - loss: 0.9991 - accuracy: 0.6468 - val_loss: 1.0522 - val_accuracy: 0.6337\n",
            "Epoch 5/10\n",
            "1250/1250 [==============================] - 8s 6ms/step - loss: 0.9413 - accuracy: 0.6663 - val_loss: 1.0049 - val_accuracy: 0.6550\n",
            "Epoch 6/10\n",
            "1250/1250 [==============================] - 7s 6ms/step - loss: 0.8952 - accuracy: 0.6864 - val_loss: 0.8869 - val_accuracy: 0.6948\n",
            "Epoch 7/10\n",
            "1250/1250 [==============================] - 8s 6ms/step - loss: 0.8556 - accuracy: 0.6993 - val_loss: 0.9100 - val_accuracy: 0.6846\n",
            "Epoch 8/10\n",
            "1250/1250 [==============================] - 8s 6ms/step - loss: 0.8187 - accuracy: 0.7125 - val_loss: 1.1670 - val_accuracy: 0.6118\n",
            "Epoch 9/10\n",
            "1250/1250 [==============================] - 8s 6ms/step - loss: 0.7902 - accuracy: 0.7221 - val_loss: 0.8223 - val_accuracy: 0.7169\n",
            "Epoch 10/10\n",
            "1250/1250 [==============================] - 8s 6ms/step - loss: 0.7720 - accuracy: 0.7287 - val_loss: 0.8635 - val_accuracy: 0.7027\n",
            "> 70.270\n",
            "Epoch 1/10\n",
            "1250/1250 [==============================] - 11s 7ms/step - loss: 1.5628 - accuracy: 0.4384 - val_loss: 1.7463 - val_accuracy: 0.4093\n",
            "Epoch 2/10\n",
            "1250/1250 [==============================] - 8s 7ms/step - loss: 1.2274 - accuracy: 0.5598 - val_loss: 1.1720 - val_accuracy: 0.5809\n",
            "Epoch 3/10\n",
            "1250/1250 [==============================] - 8s 6ms/step - loss: 1.1031 - accuracy: 0.6080 - val_loss: 1.1920 - val_accuracy: 0.5844\n",
            "Epoch 4/10\n",
            "1250/1250 [==============================] - 9s 7ms/step - loss: 1.0080 - accuracy: 0.6431 - val_loss: 1.1281 - val_accuracy: 0.6106\n",
            "Epoch 5/10\n",
            "1250/1250 [==============================] - 8s 6ms/step - loss: 0.9460 - accuracy: 0.6672 - val_loss: 1.1437 - val_accuracy: 0.6093\n",
            "Epoch 6/10\n",
            "1250/1250 [==============================] - 8s 7ms/step - loss: 0.8945 - accuracy: 0.6836 - val_loss: 1.0000 - val_accuracy: 0.6520\n",
            "Epoch 7/10\n",
            "1250/1250 [==============================] - 8s 6ms/step - loss: 0.8602 - accuracy: 0.6987 - val_loss: 0.8485 - val_accuracy: 0.7015\n",
            "Epoch 8/10\n",
            "1250/1250 [==============================] - 7s 6ms/step - loss: 0.8227 - accuracy: 0.7110 - val_loss: 0.8832 - val_accuracy: 0.6965\n",
            "Epoch 9/10\n",
            "1250/1250 [==============================] - 8s 6ms/step - loss: 0.7957 - accuracy: 0.7186 - val_loss: 1.5441 - val_accuracy: 0.5190\n",
            "Epoch 10/10\n",
            "1250/1250 [==============================] - 8s 6ms/step - loss: 0.7742 - accuracy: 0.7273 - val_loss: 1.0252 - val_accuracy: 0.6556\n",
            "> 70.150\n",
            "Epoch 1/10\n",
            "1250/1250 [==============================] - 10s 7ms/step - loss: 1.5511 - accuracy: 0.4424 - val_loss: 1.7581 - val_accuracy: 0.4298\n",
            "Epoch 2/10\n",
            "1250/1250 [==============================] - 8s 6ms/step - loss: 1.2359 - accuracy: 0.5610 - val_loss: 1.4961 - val_accuracy: 0.5023\n",
            "Epoch 3/10\n",
            "1250/1250 [==============================] - 8s 6ms/step - loss: 1.1026 - accuracy: 0.6113 - val_loss: 1.0234 - val_accuracy: 0.6428\n",
            "Epoch 4/10\n",
            "1250/1250 [==============================] - 7s 6ms/step - loss: 1.0157 - accuracy: 0.6435 - val_loss: 1.0245 - val_accuracy: 0.6463\n",
            "Epoch 5/10\n",
            "1250/1250 [==============================] - 8s 6ms/step - loss: 0.9556 - accuracy: 0.6630 - val_loss: 0.9780 - val_accuracy: 0.6566\n",
            "Epoch 6/10\n",
            "1250/1250 [==============================] - 8s 6ms/step - loss: 0.9051 - accuracy: 0.6819 - val_loss: 0.9588 - val_accuracy: 0.6671\n",
            "Epoch 7/10\n",
            "1250/1250 [==============================] - 8s 6ms/step - loss: 0.8625 - accuracy: 0.6960 - val_loss: 1.0022 - val_accuracy: 0.6522\n",
            "Epoch 8/10\n",
            "1250/1250 [==============================] - 9s 7ms/step - loss: 0.8373 - accuracy: 0.7038 - val_loss: 0.8407 - val_accuracy: 0.7055\n",
            "Epoch 9/10\n",
            "1250/1250 [==============================] - 8s 6ms/step - loss: 0.8116 - accuracy: 0.7140 - val_loss: 0.9182 - val_accuracy: 0.6773\n",
            "Epoch 10/10\n",
            "1250/1250 [==============================] - 8s 6ms/step - loss: 0.7831 - accuracy: 0.7251 - val_loss: 0.7901 - val_accuracy: 0.7261\n",
            "> 72.610\n",
            "Acurácia: média=67.119 desvio=4.534\n"
          ]
        },
        {
          "output_type": "display_data",
          "data": {
            "text/plain": [
              "<Figure size 640x480 with 1 Axes>"
            ],
            "image/png": "[encoded data removed]"
          },
          "metadata": {}
        }
      ]
    },
    {
      "cell_type": "markdown",
      "source": [
        "## Resposta 3 : Foi possivel notar um pequeno aumento da acúracia e uma diminuição do desvio padrão. Porém avaliando o grafíco ele mostra uma variabilidade muito grande comparado aos gráficos anteriores."
      ],
      "metadata": {
        "id": "1ehe28YOkHIU"
      }
    }
  ]
}